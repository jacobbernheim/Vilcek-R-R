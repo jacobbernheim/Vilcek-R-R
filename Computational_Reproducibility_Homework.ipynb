{
  "nbformat": 4,
  "nbformat_minor": 0,
  "metadata": {
    "colab": {
      "provenance": [],
      "authorship_tag": "ABX9TyPm6nkBJWLLa+WB3s5H2rHY",
      "include_colab_link": true
    },
    "kernelspec": {
      "name": "python3",
      "display_name": "Python 3"
    },
    "language_info": {
      "name": "python"
    }
  },
  "cells": [
    {
      "cell_type": "markdown",
      "metadata": {
        "id": "view-in-github",
        "colab_type": "text"
      },
      "source": [
        "<a href=\"https://colab.research.google.com/github/jacobbernheim/Vilcek-R-R/blob/main/Computational_Reproducibility_Homework.ipynb\" target=\"_parent\"><img src=\"https://colab.research.google.com/assets/colab-badge.svg\" alt=\"Open In Colab\"/></a>"
      ]
    },
    {
      "cell_type": "code",
      "source": [
        "print(\"10/23/2024\")\n",
        "2*5"
      ],
      "metadata": {
        "colab": {
          "base_uri": "https://localhost:8080/"
        },
        "id": "gMb_buzbz_W8",
        "outputId": "47cb852e-f59f-40cb-dbba-d1a67e7788c6"
      },
      "execution_count": 2,
      "outputs": [
        {
          "output_type": "stream",
          "name": "stdout",
          "text": [
            "10/23/2024\n"
          ]
        },
        {
          "output_type": "execute_result",
          "data": {
            "text/plain": [
              "10"
            ]
          },
          "metadata": {},
          "execution_count": 2
        }
      ]
    },
    {
      "cell_type": "markdown",
      "source": [
        "Using repositories and tracking changes is critical to improving computational reproducibility. Repositories and software tools like Github provide a place to store data and code used for analysis rather than simply the figures/conclusions that result from those analyses. This makes it much easier for other researchers, and even yourself at a later date, to apply the same code to your dataset to see if they get the same results. They can also then extend that work knowing that they are beginning from the same baseline. It allows for easier collaboration with other researchers and gives other researchers the opportunity to judge for themselves whether your method of analysis is reasonable. Having the actual code used allows them to judge this with much greater precision than is generally possible with the written explanation present in the materials and methods section of a paper. Keeping a record of changes and additions to code over time by using version control tools like Github allows you easily restore previous versions of a project and see how errors and bugs were addressed over time. This helps with identifying the origin of bugs and tracking how specific changes altered the outcome of an analysis. For projects that involve multiple researchers working together on the codebase/analysis, it makes the contributions of each user more transparent."
      ],
      "metadata": {
        "id": "LxtLp01W0VuO"
      }
    },
    {
      "cell_type": "code",
      "execution_count": null,
      "metadata": {
        "id": "2czhcvFZz9OT"
      },
      "outputs": [],
      "source": []
    }
  ]
}